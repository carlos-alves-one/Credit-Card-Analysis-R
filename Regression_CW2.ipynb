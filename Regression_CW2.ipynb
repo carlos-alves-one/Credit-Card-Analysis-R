{
  "nbformat": 4,
  "nbformat_minor": 0,
  "metadata": {
    "colab": {
      "provenance": [],
      "toc_visible": true,
      "include_colab_link": true
    },
    "kernelspec": {
      "name": "ir",
      "display_name": "R"
    },
    "language_info": {
      "name": "R"
    }
  },
  "cells": [
    {
      "cell_type": "markdown",
      "metadata": {
        "id": "view-in-github",
        "colab_type": "text"
      },
      "source": [
        "<a href=\"https://colab.research.google.com/github/carlos-alves-one/-SSDM-Coursework-2/blob/main/Regression_CW2.ipynb\" target=\"_parent\"><img src=\"https://colab.research.google.com/assets/colab-badge.svg\" alt=\"Open In Colab\"/></a>"
      ]
    },
    {
      "cell_type": "markdown",
      "source": [
        "### Goldsmiths University of London\n",
        "### MSc. Data Science and Artificial Intelligence\n",
        "### Module: Statistics and Statistical Data Mining\n",
        "### Author: Carlos Manuel De Oliveira Alves\n",
        "### Student: cdeol003\n",
        "### Coursework No.2"
      ],
      "metadata": {
        "id": "beN6QUytMVU9"
      }
    },
    {
      "cell_type": "markdown",
      "source": [
        "### Load the data\n",
        "\n",
        "> Run the code in Python 3"
      ],
      "metadata": {
        "id": "KSNCRhxthRVf"
      }
    },
    {
      "cell_type": "code",
      "execution_count": 1,
      "metadata": {
        "colab": {
          "base_uri": "https://localhost:8080/"
        },
        "id": "smKUdIneMLLc",
        "outputId": "307fcaaf-d9ca-4e18-a7fb-0e78bcadcc54"
      },
      "outputs": [
        {
          "output_type": "stream",
          "name": "stdout",
          "text": [
            "Mounted at /content/drive\n"
          ]
        }
      ],
      "source": [
        "# Imports the 'drive' module from 'google.colab' and mounts the Google Drive to\n",
        "# the '/content/drive' directory in the Colab environment.\n",
        "from google.colab import drive\n",
        "drive.mount('/content/drive')\n"
      ]
    },
    {
      "cell_type": "markdown",
      "source": [
        "> Run the code in R"
      ],
      "metadata": {
        "id": "EIgITd7EicLq"
      }
    },
    {
      "cell_type": "code",
      "source": [
        "# Load necessary libraries for this project\n",
        "library(tidyverse)    # for data manipulation and visualization\n",
        "\n",
        "install.packages(\"caret\")\n",
        "library(caret)        # for machine learning\n",
        "\n",
        "library(rpart)        # for decision trees\n",
        "\n",
        "install.packages(\"randomForest\")\n",
        "library(randomForest) # for random forest algorithm\n",
        "\n",
        "install.packages(\"gbm\")\n",
        "library(gbm)          # for gradient boosting machines\n",
        "\n",
        "library(e1071)        # for SVM and other algorithms\n",
        "\n",
        "# Load the 'readr' library for data import and manipulation in R\n",
        "library(readr)\n",
        "\n",
        "# Set seed for reproducibility\n",
        "set.seed(123)\n"
      ],
      "metadata": {
        "colab": {
          "base_uri": "https://localhost:8080/"
        },
        "id": "nP3Ve8TpBPdU",
        "outputId": "ad7850d7-3749-4373-9be9-b732b820f2c7"
      },
      "execution_count": 1,
      "outputs": [
        {
          "output_type": "stream",
          "name": "stderr",
          "text": [
            "── \u001b[1mAttaching core tidyverse packages\u001b[22m ──────────────────────── tidyverse 2.0.0 ──\n",
            "\u001b[32m✔\u001b[39m \u001b[34mdplyr    \u001b[39m 1.1.4     \u001b[32m✔\u001b[39m \u001b[34mreadr    \u001b[39m 2.1.4\n",
            "\u001b[32m✔\u001b[39m \u001b[34mforcats  \u001b[39m 1.0.0     \u001b[32m✔\u001b[39m \u001b[34mstringr  \u001b[39m 1.5.1\n",
            "\u001b[32m✔\u001b[39m \u001b[34mggplot2  \u001b[39m 3.4.4     \u001b[32m✔\u001b[39m \u001b[34mtibble   \u001b[39m 3.2.1\n",
            "\u001b[32m✔\u001b[39m \u001b[34mlubridate\u001b[39m 1.9.3     \u001b[32m✔\u001b[39m \u001b[34mtidyr    \u001b[39m 1.3.0\n",
            "\u001b[32m✔\u001b[39m \u001b[34mpurrr    \u001b[39m 1.0.2     \n",
            "── \u001b[1mConflicts\u001b[22m ────────────────────────────────────────── tidyverse_conflicts() ──\n",
            "\u001b[31m✖\u001b[39m \u001b[34mdplyr\u001b[39m::\u001b[32mfilter()\u001b[39m masks \u001b[34mstats\u001b[39m::filter()\n",
            "\u001b[31m✖\u001b[39m \u001b[34mdplyr\u001b[39m::\u001b[32mlag()\u001b[39m    masks \u001b[34mstats\u001b[39m::lag()\n",
            "\u001b[36mℹ\u001b[39m Use the conflicted package (\u001b[3m\u001b[34m<http://conflicted.r-lib.org/>\u001b[39m\u001b[23m) to force all conflicts to become errors\n",
            "Installing package into ‘/usr/local/lib/R/site-library’\n",
            "(as ‘lib’ is unspecified)\n",
            "\n",
            "also installing the dependencies ‘listenv’, ‘parallelly’, ‘future’, ‘globals’, ‘shape’, ‘future.apply’, ‘numDeriv’, ‘progressr’, ‘SQUAREM’, ‘diagram’, ‘lava’, ‘prodlim’, ‘proxy’, ‘iterators’, ‘Rcpp’, ‘clock’, ‘gower’, ‘hardhat’, ‘ipred’, ‘timeDate’, ‘e1071’, ‘foreach’, ‘ModelMetrics’, ‘plyr’, ‘pROC’, ‘recipes’, ‘reshape2’\n",
            "\n",
            "\n",
            "Loading required package: lattice\n",
            "\n",
            "\n",
            "Attaching package: ‘caret’\n",
            "\n",
            "\n",
            "The following object is masked from ‘package:purrr’:\n",
            "\n",
            "    lift\n",
            "\n",
            "\n",
            "Installing package into ‘/usr/local/lib/R/site-library’\n",
            "(as ‘lib’ is unspecified)\n",
            "\n",
            "randomForest 4.7-1.1\n",
            "\n",
            "Type rfNews() to see new features/changes/bug fixes.\n",
            "\n",
            "\n",
            "Attaching package: ‘randomForest’\n",
            "\n",
            "\n",
            "The following object is masked from ‘package:dplyr’:\n",
            "\n",
            "    combine\n",
            "\n",
            "\n",
            "The following object is masked from ‘package:ggplot2’:\n",
            "\n",
            "    margin\n",
            "\n",
            "\n",
            "Installing package into ‘/usr/local/lib/R/site-library’\n",
            "(as ‘lib’ is unspecified)\n",
            "\n",
            "Loaded gbm 2.1.9\n",
            "\n",
            "This version of gbm is no longer under development. Consider transitioning to gbm3, https://github.com/gbm-developers/gbm3\n",
            "\n"
          ]
        }
      ]
    },
    {
      "cell_type": "code",
      "source": [
        "# Loading the datasets using base R read.csv function\n",
        "train_data <- read.csv(\"/content/drive/MyDrive/credit_risk/creditdefault_train.csv\", sep = \",\")\n",
        "test_data  <- read.csv(\"/content/drive/MyDrive/credit_risk/creditdefault_train.csv\", sep = \",\")\n",
        "\n",
        "# Displaying the first few rows of the Credit Default training dataset\n",
        "head(train_data)\n",
        "\n",
        "# Displaying the first few rows of the Credit Default test dataset\n",
        "head(test_data)\n"
      ],
      "metadata": {
        "colab": {
          "base_uri": "https://localhost:8080/",
          "height": 555
        },
        "id": "xVwcyz6Pic3u",
        "outputId": "8b7385b6-42f6-482a-ba6c-c14ab4dc7ed0"
      },
      "execution_count": 2,
      "outputs": [
        {
          "output_type": "display_data",
          "data": {
            "text/html": [
              "<table class=\"dataframe\">\n",
              "<caption>A data.frame: 6 × 24</caption>\n",
              "<thead>\n",
              "\t<tr><th></th><th scope=col>Y</th><th scope=col>X1</th><th scope=col>X2</th><th scope=col>X3</th><th scope=col>X4</th><th scope=col>X5</th><th scope=col>X6</th><th scope=col>X7</th><th scope=col>X8</th><th scope=col>X9</th><th scope=col>⋯</th><th scope=col>X14</th><th scope=col>X15</th><th scope=col>X16</th><th scope=col>X17</th><th scope=col>X18</th><th scope=col>X19</th><th scope=col>X20</th><th scope=col>X21</th><th scope=col>X22</th><th scope=col>X23</th></tr>\n",
              "\t<tr><th></th><th scope=col>&lt;int&gt;</th><th scope=col>&lt;int&gt;</th><th scope=col>&lt;int&gt;</th><th scope=col>&lt;int&gt;</th><th scope=col>&lt;int&gt;</th><th scope=col>&lt;int&gt;</th><th scope=col>&lt;int&gt;</th><th scope=col>&lt;int&gt;</th><th scope=col>&lt;int&gt;</th><th scope=col>&lt;int&gt;</th><th scope=col>⋯</th><th scope=col>&lt;int&gt;</th><th scope=col>&lt;int&gt;</th><th scope=col>&lt;int&gt;</th><th scope=col>&lt;int&gt;</th><th scope=col>&lt;int&gt;</th><th scope=col>&lt;int&gt;</th><th scope=col>&lt;int&gt;</th><th scope=col>&lt;int&gt;</th><th scope=col>&lt;int&gt;</th><th scope=col>&lt;int&gt;</th></tr>\n",
              "</thead>\n",
              "<tbody>\n",
              "\t<tr><th scope=row>1</th><td>1</td><td> 20000</td><td>2</td><td>2</td><td>1</td><td>24</td><td> 2</td><td> 2</td><td>-1</td><td>-1</td><td>⋯</td><td>   689</td><td>     0</td><td>     0</td><td>     0</td><td>    0</td><td>  689</td><td>    0</td><td>    0</td><td>    0</td><td>    0</td></tr>\n",
              "\t<tr><th scope=row>2</th><td>0</td><td> 50000</td><td>2</td><td>2</td><td>1</td><td>37</td><td> 0</td><td> 0</td><td> 0</td><td> 0</td><td>⋯</td><td> 49291</td><td> 28314</td><td> 28959</td><td> 29547</td><td> 2000</td><td> 2019</td><td> 1200</td><td> 1100</td><td> 1069</td><td> 1000</td></tr>\n",
              "\t<tr><th scope=row>3</th><td>0</td><td> 50000</td><td>1</td><td>2</td><td>1</td><td>57</td><td>-1</td><td> 0</td><td>-1</td><td> 0</td><td>⋯</td><td> 35835</td><td> 20940</td><td> 19146</td><td> 19131</td><td> 2000</td><td>36681</td><td>10000</td><td> 9000</td><td>  689</td><td>  679</td></tr>\n",
              "\t<tr><th scope=row>4</th><td>0</td><td> 50000</td><td>1</td><td>1</td><td>2</td><td>37</td><td> 0</td><td> 0</td><td> 0</td><td> 0</td><td>⋯</td><td> 57608</td><td> 19394</td><td> 19619</td><td> 20024</td><td> 2500</td><td> 1815</td><td>  657</td><td> 1000</td><td> 1000</td><td>  800</td></tr>\n",
              "\t<tr><th scope=row>5</th><td>0</td><td>500000</td><td>1</td><td>1</td><td>2</td><td>29</td><td> 0</td><td> 0</td><td> 0</td><td> 0</td><td>⋯</td><td>445007</td><td>542653</td><td>483003</td><td>473944</td><td>55000</td><td>40000</td><td>38000</td><td>20239</td><td>13750</td><td>13770</td></tr>\n",
              "\t<tr><th scope=row>6</th><td>0</td><td>100000</td><td>2</td><td>2</td><td>2</td><td>23</td><td> 0</td><td>-1</td><td>-1</td><td> 0</td><td>⋯</td><td>   601</td><td>   221</td><td>  -159</td><td>   567</td><td>  380</td><td>  601</td><td>    0</td><td>  581</td><td> 1687</td><td> 1542</td></tr>\n",
              "</tbody>\n",
              "</table>\n"
            ],
            "text/markdown": "\nA data.frame: 6 × 24\n\n| <!--/--> | Y &lt;int&gt; | X1 &lt;int&gt; | X2 &lt;int&gt; | X3 &lt;int&gt; | X4 &lt;int&gt; | X5 &lt;int&gt; | X6 &lt;int&gt; | X7 &lt;int&gt; | X8 &lt;int&gt; | X9 &lt;int&gt; | ⋯ ⋯ | X14 &lt;int&gt; | X15 &lt;int&gt; | X16 &lt;int&gt; | X17 &lt;int&gt; | X18 &lt;int&gt; | X19 &lt;int&gt; | X20 &lt;int&gt; | X21 &lt;int&gt; | X22 &lt;int&gt; | X23 &lt;int&gt; |\n|---|---|---|---|---|---|---|---|---|---|---|---|---|---|---|---|---|---|---|---|---|---|\n| 1 | 1 |  20000 | 2 | 2 | 1 | 24 |  2 |  2 | -1 | -1 | ⋯ |    689 |      0 |      0 |      0 |     0 |   689 |     0 |     0 |     0 |     0 |\n| 2 | 0 |  50000 | 2 | 2 | 1 | 37 |  0 |  0 |  0 |  0 | ⋯ |  49291 |  28314 |  28959 |  29547 |  2000 |  2019 |  1200 |  1100 |  1069 |  1000 |\n| 3 | 0 |  50000 | 1 | 2 | 1 | 57 | -1 |  0 | -1 |  0 | ⋯ |  35835 |  20940 |  19146 |  19131 |  2000 | 36681 | 10000 |  9000 |   689 |   679 |\n| 4 | 0 |  50000 | 1 | 1 | 2 | 37 |  0 |  0 |  0 |  0 | ⋯ |  57608 |  19394 |  19619 |  20024 |  2500 |  1815 |   657 |  1000 |  1000 |   800 |\n| 5 | 0 | 500000 | 1 | 1 | 2 | 29 |  0 |  0 |  0 |  0 | ⋯ | 445007 | 542653 | 483003 | 473944 | 55000 | 40000 | 38000 | 20239 | 13750 | 13770 |\n| 6 | 0 | 100000 | 2 | 2 | 2 | 23 |  0 | -1 | -1 |  0 | ⋯ |    601 |    221 |   -159 |    567 |   380 |   601 |     0 |   581 |  1687 |  1542 |\n\n",
            "text/latex": "A data.frame: 6 × 24\n\\begin{tabular}{r|lllllllllllllllllllll}\n  & Y & X1 & X2 & X3 & X4 & X5 & X6 & X7 & X8 & X9 & ⋯ & X14 & X15 & X16 & X17 & X18 & X19 & X20 & X21 & X22 & X23\\\\\n  & <int> & <int> & <int> & <int> & <int> & <int> & <int> & <int> & <int> & <int> & ⋯ & <int> & <int> & <int> & <int> & <int> & <int> & <int> & <int> & <int> & <int>\\\\\n\\hline\n\t1 & 1 &  20000 & 2 & 2 & 1 & 24 &  2 &  2 & -1 & -1 & ⋯ &    689 &      0 &      0 &      0 &     0 &   689 &     0 &     0 &     0 &     0\\\\\n\t2 & 0 &  50000 & 2 & 2 & 1 & 37 &  0 &  0 &  0 &  0 & ⋯ &  49291 &  28314 &  28959 &  29547 &  2000 &  2019 &  1200 &  1100 &  1069 &  1000\\\\\n\t3 & 0 &  50000 & 1 & 2 & 1 & 57 & -1 &  0 & -1 &  0 & ⋯ &  35835 &  20940 &  19146 &  19131 &  2000 & 36681 & 10000 &  9000 &   689 &   679\\\\\n\t4 & 0 &  50000 & 1 & 1 & 2 & 37 &  0 &  0 &  0 &  0 & ⋯ &  57608 &  19394 &  19619 &  20024 &  2500 &  1815 &   657 &  1000 &  1000 &   800\\\\\n\t5 & 0 & 500000 & 1 & 1 & 2 & 29 &  0 &  0 &  0 &  0 & ⋯ & 445007 & 542653 & 483003 & 473944 & 55000 & 40000 & 38000 & 20239 & 13750 & 13770\\\\\n\t6 & 0 & 100000 & 2 & 2 & 2 & 23 &  0 & -1 & -1 &  0 & ⋯ &    601 &    221 &   -159 &    567 &   380 &   601 &     0 &   581 &  1687 &  1542\\\\\n\\end{tabular}\n",
            "text/plain": [
              "  Y X1     X2 X3 X4 X5 X6 X7 X8 X9 ⋯ X14    X15    X16    X17    X18   X19  \n",
              "1 1  20000 2  2  1  24  2  2 -1 -1 ⋯    689      0      0      0     0   689\n",
              "2 0  50000 2  2  1  37  0  0  0  0 ⋯  49291  28314  28959  29547  2000  2019\n",
              "3 0  50000 1  2  1  57 -1  0 -1  0 ⋯  35835  20940  19146  19131  2000 36681\n",
              "4 0  50000 1  1  2  37  0  0  0  0 ⋯  57608  19394  19619  20024  2500  1815\n",
              "5 0 500000 1  1  2  29  0  0  0  0 ⋯ 445007 542653 483003 473944 55000 40000\n",
              "6 0 100000 2  2  2  23  0 -1 -1  0 ⋯    601    221   -159    567   380   601\n",
              "  X20   X21   X22   X23  \n",
              "1     0     0     0     0\n",
              "2  1200  1100  1069  1000\n",
              "3 10000  9000   689   679\n",
              "4   657  1000  1000   800\n",
              "5 38000 20239 13750 13770\n",
              "6     0   581  1687  1542"
            ]
          },
          "metadata": {}
        },
        {
          "output_type": "display_data",
          "data": {
            "text/html": [
              "<table class=\"dataframe\">\n",
              "<caption>A data.frame: 6 × 24</caption>\n",
              "<thead>\n",
              "\t<tr><th></th><th scope=col>Y</th><th scope=col>X1</th><th scope=col>X2</th><th scope=col>X3</th><th scope=col>X4</th><th scope=col>X5</th><th scope=col>X6</th><th scope=col>X7</th><th scope=col>X8</th><th scope=col>X9</th><th scope=col>⋯</th><th scope=col>X14</th><th scope=col>X15</th><th scope=col>X16</th><th scope=col>X17</th><th scope=col>X18</th><th scope=col>X19</th><th scope=col>X20</th><th scope=col>X21</th><th scope=col>X22</th><th scope=col>X23</th></tr>\n",
              "\t<tr><th></th><th scope=col>&lt;int&gt;</th><th scope=col>&lt;int&gt;</th><th scope=col>&lt;int&gt;</th><th scope=col>&lt;int&gt;</th><th scope=col>&lt;int&gt;</th><th scope=col>&lt;int&gt;</th><th scope=col>&lt;int&gt;</th><th scope=col>&lt;int&gt;</th><th scope=col>&lt;int&gt;</th><th scope=col>&lt;int&gt;</th><th scope=col>⋯</th><th scope=col>&lt;int&gt;</th><th scope=col>&lt;int&gt;</th><th scope=col>&lt;int&gt;</th><th scope=col>&lt;int&gt;</th><th scope=col>&lt;int&gt;</th><th scope=col>&lt;int&gt;</th><th scope=col>&lt;int&gt;</th><th scope=col>&lt;int&gt;</th><th scope=col>&lt;int&gt;</th><th scope=col>&lt;int&gt;</th></tr>\n",
              "</thead>\n",
              "<tbody>\n",
              "\t<tr><th scope=row>1</th><td>1</td><td> 20000</td><td>2</td><td>2</td><td>1</td><td>24</td><td> 2</td><td> 2</td><td>-1</td><td>-1</td><td>⋯</td><td>   689</td><td>     0</td><td>     0</td><td>     0</td><td>    0</td><td>  689</td><td>    0</td><td>    0</td><td>    0</td><td>    0</td></tr>\n",
              "\t<tr><th scope=row>2</th><td>0</td><td> 50000</td><td>2</td><td>2</td><td>1</td><td>37</td><td> 0</td><td> 0</td><td> 0</td><td> 0</td><td>⋯</td><td> 49291</td><td> 28314</td><td> 28959</td><td> 29547</td><td> 2000</td><td> 2019</td><td> 1200</td><td> 1100</td><td> 1069</td><td> 1000</td></tr>\n",
              "\t<tr><th scope=row>3</th><td>0</td><td> 50000</td><td>1</td><td>2</td><td>1</td><td>57</td><td>-1</td><td> 0</td><td>-1</td><td> 0</td><td>⋯</td><td> 35835</td><td> 20940</td><td> 19146</td><td> 19131</td><td> 2000</td><td>36681</td><td>10000</td><td> 9000</td><td>  689</td><td>  679</td></tr>\n",
              "\t<tr><th scope=row>4</th><td>0</td><td> 50000</td><td>1</td><td>1</td><td>2</td><td>37</td><td> 0</td><td> 0</td><td> 0</td><td> 0</td><td>⋯</td><td> 57608</td><td> 19394</td><td> 19619</td><td> 20024</td><td> 2500</td><td> 1815</td><td>  657</td><td> 1000</td><td> 1000</td><td>  800</td></tr>\n",
              "\t<tr><th scope=row>5</th><td>0</td><td>500000</td><td>1</td><td>1</td><td>2</td><td>29</td><td> 0</td><td> 0</td><td> 0</td><td> 0</td><td>⋯</td><td>445007</td><td>542653</td><td>483003</td><td>473944</td><td>55000</td><td>40000</td><td>38000</td><td>20239</td><td>13750</td><td>13770</td></tr>\n",
              "\t<tr><th scope=row>6</th><td>0</td><td>100000</td><td>2</td><td>2</td><td>2</td><td>23</td><td> 0</td><td>-1</td><td>-1</td><td> 0</td><td>⋯</td><td>   601</td><td>   221</td><td>  -159</td><td>   567</td><td>  380</td><td>  601</td><td>    0</td><td>  581</td><td> 1687</td><td> 1542</td></tr>\n",
              "</tbody>\n",
              "</table>\n"
            ],
            "text/markdown": "\nA data.frame: 6 × 24\n\n| <!--/--> | Y &lt;int&gt; | X1 &lt;int&gt; | X2 &lt;int&gt; | X3 &lt;int&gt; | X4 &lt;int&gt; | X5 &lt;int&gt; | X6 &lt;int&gt; | X7 &lt;int&gt; | X8 &lt;int&gt; | X9 &lt;int&gt; | ⋯ ⋯ | X14 &lt;int&gt; | X15 &lt;int&gt; | X16 &lt;int&gt; | X17 &lt;int&gt; | X18 &lt;int&gt; | X19 &lt;int&gt; | X20 &lt;int&gt; | X21 &lt;int&gt; | X22 &lt;int&gt; | X23 &lt;int&gt; |\n|---|---|---|---|---|---|---|---|---|---|---|---|---|---|---|---|---|---|---|---|---|---|\n| 1 | 1 |  20000 | 2 | 2 | 1 | 24 |  2 |  2 | -1 | -1 | ⋯ |    689 |      0 |      0 |      0 |     0 |   689 |     0 |     0 |     0 |     0 |\n| 2 | 0 |  50000 | 2 | 2 | 1 | 37 |  0 |  0 |  0 |  0 | ⋯ |  49291 |  28314 |  28959 |  29547 |  2000 |  2019 |  1200 |  1100 |  1069 |  1000 |\n| 3 | 0 |  50000 | 1 | 2 | 1 | 57 | -1 |  0 | -1 |  0 | ⋯ |  35835 |  20940 |  19146 |  19131 |  2000 | 36681 | 10000 |  9000 |   689 |   679 |\n| 4 | 0 |  50000 | 1 | 1 | 2 | 37 |  0 |  0 |  0 |  0 | ⋯ |  57608 |  19394 |  19619 |  20024 |  2500 |  1815 |   657 |  1000 |  1000 |   800 |\n| 5 | 0 | 500000 | 1 | 1 | 2 | 29 |  0 |  0 |  0 |  0 | ⋯ | 445007 | 542653 | 483003 | 473944 | 55000 | 40000 | 38000 | 20239 | 13750 | 13770 |\n| 6 | 0 | 100000 | 2 | 2 | 2 | 23 |  0 | -1 | -1 |  0 | ⋯ |    601 |    221 |   -159 |    567 |   380 |   601 |     0 |   581 |  1687 |  1542 |\n\n",
            "text/latex": "A data.frame: 6 × 24\n\\begin{tabular}{r|lllllllllllllllllllll}\n  & Y & X1 & X2 & X3 & X4 & X5 & X6 & X7 & X8 & X9 & ⋯ & X14 & X15 & X16 & X17 & X18 & X19 & X20 & X21 & X22 & X23\\\\\n  & <int> & <int> & <int> & <int> & <int> & <int> & <int> & <int> & <int> & <int> & ⋯ & <int> & <int> & <int> & <int> & <int> & <int> & <int> & <int> & <int> & <int>\\\\\n\\hline\n\t1 & 1 &  20000 & 2 & 2 & 1 & 24 &  2 &  2 & -1 & -1 & ⋯ &    689 &      0 &      0 &      0 &     0 &   689 &     0 &     0 &     0 &     0\\\\\n\t2 & 0 &  50000 & 2 & 2 & 1 & 37 &  0 &  0 &  0 &  0 & ⋯ &  49291 &  28314 &  28959 &  29547 &  2000 &  2019 &  1200 &  1100 &  1069 &  1000\\\\\n\t3 & 0 &  50000 & 1 & 2 & 1 & 57 & -1 &  0 & -1 &  0 & ⋯ &  35835 &  20940 &  19146 &  19131 &  2000 & 36681 & 10000 &  9000 &   689 &   679\\\\\n\t4 & 0 &  50000 & 1 & 1 & 2 & 37 &  0 &  0 &  0 &  0 & ⋯ &  57608 &  19394 &  19619 &  20024 &  2500 &  1815 &   657 &  1000 &  1000 &   800\\\\\n\t5 & 0 & 500000 & 1 & 1 & 2 & 29 &  0 &  0 &  0 &  0 & ⋯ & 445007 & 542653 & 483003 & 473944 & 55000 & 40000 & 38000 & 20239 & 13750 & 13770\\\\\n\t6 & 0 & 100000 & 2 & 2 & 2 & 23 &  0 & -1 & -1 &  0 & ⋯ &    601 &    221 &   -159 &    567 &   380 &   601 &     0 &   581 &  1687 &  1542\\\\\n\\end{tabular}\n",
            "text/plain": [
              "  Y X1     X2 X3 X4 X5 X6 X7 X8 X9 ⋯ X14    X15    X16    X17    X18   X19  \n",
              "1 1  20000 2  2  1  24  2  2 -1 -1 ⋯    689      0      0      0     0   689\n",
              "2 0  50000 2  2  1  37  0  0  0  0 ⋯  49291  28314  28959  29547  2000  2019\n",
              "3 0  50000 1  2  1  57 -1  0 -1  0 ⋯  35835  20940  19146  19131  2000 36681\n",
              "4 0  50000 1  1  2  37  0  0  0  0 ⋯  57608  19394  19619  20024  2500  1815\n",
              "5 0 500000 1  1  2  29  0  0  0  0 ⋯ 445007 542653 483003 473944 55000 40000\n",
              "6 0 100000 2  2  2  23  0 -1 -1  0 ⋯    601    221   -159    567   380   601\n",
              "  X20   X21   X22   X23  \n",
              "1     0     0     0     0\n",
              "2  1200  1100  1069  1000\n",
              "3 10000  9000   689   679\n",
              "4   657  1000  1000   800\n",
              "5 38000 20239 13750 13770\n",
              "6     0   581  1687  1542"
            ]
          },
          "metadata": {}
        }
      ]
    },
    {
      "cell_type": "markdown",
      "source": [
        "# Problem Formulation\n",
        "\n",
        "This project aims to predict whether a credit card holder will default on their payment in the next month. We will use a binary classification approach with the response variable Y indicating default payment (Yes = 1, No = 0). The challenge is to build and select a predictive model that performs well on unseen data, balancing the trade-off between underfitting and overfitting."
      ],
      "metadata": {
        "id": "tMLX9j6bBOcg"
      }
    },
    {
      "cell_type": "markdown",
      "source": [
        "# Data Exploratory Analysis"
      ],
      "metadata": {
        "id": "jysLkIKNNz_2"
      }
    },
    {
      "cell_type": "markdown",
      "source": [
        "## Initial Exploration of the Dataset"
      ],
      "metadata": {
        "id": "4WturV_QS_Yc"
      }
    },
    {
      "cell_type": "code",
      "source": [
        "# Exploratory Data Analysis\n",
        "# Summary of the training data\n",
        "summary(train_data)"
      ],
      "metadata": {
        "colab": {
          "base_uri": "https://localhost:8080/",
          "height": 746
        },
        "id": "GfGNZWpBN1T0",
        "outputId": "fcdcd73f-2b46-4ab8-d240-fb906673435f"
      },
      "execution_count": 3,
      "outputs": [
        {
          "output_type": "display_data",
          "data": {
            "text/plain": [
              "       Y                X1               X2              X3      \n",
              " Min.   :0.0000   Min.   : 10000   Min.   :1.000   Min.   :0.00  \n",
              " 1st Qu.:0.0000   1st Qu.: 50000   1st Qu.:1.000   1st Qu.:1.00  \n",
              " Median :0.0000   Median :140000   Median :2.000   Median :2.00  \n",
              " Mean   :0.2212   Mean   :167450   Mean   :1.605   Mean   :1.85  \n",
              " 3rd Qu.:0.0000   3rd Qu.:240000   3rd Qu.:2.000   3rd Qu.:2.00  \n",
              " Max.   :1.0000   Max.   :800000   Max.   :2.000   Max.   :6.00  \n",
              "       X4              X5              X6                 X7         \n",
              " Min.   :0.000   Min.   :21.00   Min.   :-2.00000   Min.   :-2.0000  \n",
              " 1st Qu.:1.000   1st Qu.:28.00   1st Qu.:-1.00000   1st Qu.:-1.0000  \n",
              " Median :2.000   Median :34.00   Median : 0.00000   Median : 0.0000  \n",
              " Mean   :1.556   Mean   :35.37   Mean   :-0.02047   Mean   :-0.1309  \n",
              " 3rd Qu.:2.000   3rd Qu.:41.00   3rd Qu.: 0.00000   3rd Qu.: 0.0000  \n",
              " Max.   :3.000   Max.   :75.00   Max.   : 8.00000   Max.   : 8.0000  \n",
              "       X8               X9               X10               X11         \n",
              " Min.   :-2.000   Min.   :-2.0000   Min.   :-2.0000   Min.   :-2.0000  \n",
              " 1st Qu.:-1.000   1st Qu.:-1.0000   1st Qu.:-1.0000   1st Qu.:-1.0000  \n",
              " Median : 0.000   Median : 0.0000   Median : 0.0000   Median : 0.0000  \n",
              " Mean   :-0.163   Mean   :-0.2145   Mean   :-0.2569   Mean   :-0.2833  \n",
              " 3rd Qu.: 0.000   3rd Qu.: 0.0000   3rd Qu.: 0.0000   3rd Qu.: 0.0000  \n",
              " Max.   : 8.000   Max.   : 8.0000   Max.   : 7.0000   Max.   : 7.0000  \n",
              "      X12              X13              X14              X15         \n",
              " Min.   :-10682   Min.   :-67526   Min.   :-34041   Min.   :-170000  \n",
              " 1st Qu.:  3672   1st Qu.:  3034   1st Qu.:  2734   1st Qu.:   2393  \n",
              " Median : 23048   Median : 21520   Median : 20165   Median :  19090  \n",
              " Mean   : 51640   Mean   : 49457   Mean   : 47118   Mean   :  43077  \n",
              " 3rd Qu.: 67938   3rd Qu.: 64322   3rd Qu.: 60263   3rd Qu.:  54600  \n",
              " Max.   :746814   Max.   :671563   Max.   :855086   Max.   : 706864  \n",
              "      X16              X17               X18              X19         \n",
              " Min.   :-46627   Min.   :-339603   Min.   :     0   Min.   :      0  \n",
              " 1st Qu.:  1800   1st Qu.:   1200   1st Qu.:  1000   1st Qu.:    833  \n",
              " Median : 18178   Median :  17177   Median :  2113   Median :   2014  \n",
              " Mean   : 40273   Mean   :  38709   Mean   :  5616   Mean   :   5822  \n",
              " 3rd Qu.: 50135   3rd Qu.:  49123   3rd Qu.:  5023   3rd Qu.:   5000  \n",
              " Max.   :587067   Max.   : 568638   Max.   :493358   Max.   :1227082  \n",
              "      X20              X21              X22              X23        \n",
              " Min.   :     0   Min.   :     0   Min.   :     0   Min.   :     0  \n",
              " 1st Qu.:   390   1st Qu.:   290   1st Qu.:   204   1st Qu.:    80  \n",
              " Median :  1809   Median :  1500   Median :  1500   Median :  1500  \n",
              " Mean   :  4943   Mean   :  4997   Mean   :  4798   Mean   :  5226  \n",
              " 3rd Qu.:  4572   3rd Qu.:  4048   3rd Qu.:  4020   3rd Qu.:  4000  \n",
              " Max.   :380478   Max.   :528897   Max.   :426529   Max.   :528666  "
            ]
          },
          "metadata": {}
        }
      ]
    },
    {
      "cell_type": "markdown",
      "source": [
        "**Given the detailed information about the variables in the dataset, we can draw some conclusions and suggest potential steps for further analysis:**\n",
        "\n",
        "- The dataset contains 24 columns and 15,000 rows, all being integer type"
      ],
      "metadata": {
        "id": "LrHnCCjHQIJo"
      }
    },
    {
      "cell_type": "markdown",
      "source": [
        "## Variable Types and Conversion\n"
      ],
      "metadata": {
        "id": "PLWmIh9wQlFh"
      }
    },
    {
      "cell_type": "markdown",
      "source": [
        "- X1 (Credit Amount): This should be a numeric variable as it represents amounts in dollars.\n",
        "\n",
        "- X2 (Gender): Since it is coded as 1 (male) and 2 (female), it is a categorical variable. Consider converting it to a factor with two levels.\n",
        "\n",
        "- X3 (Education), X4 (Marital Status): These are categorical variables and should be converted to factors with their respective levels.\n",
        "\n",
        "- X5 (Age): This is a numeric variable.\n",
        "\n",
        "- X6-X11 (Repayment Status): These are ordinal categorical variables. They have an inherent order (-1, 1, 2, ..., 9) and should be treated as factors with ordered levels.\n",
        "\n",
        "- X12-X17 (Bill Statement Amount), X18-X23 (Previous Payment Amount): These should be numeric variables representing monetary values.\n"
      ],
      "metadata": {
        "id": "5ppmBdBmR9nj"
      }
    },
    {
      "cell_type": "markdown",
      "source": [
        "## Data Integrity and Cleaning\n",
        "\n",
        "- We need to ensure that the data types in the dataset match these specifications. They must be converted to the appropriate types if they are all currently 'character' types.\n",
        "\n",
        "- Check for missing or unusual values. For example, ensure that only the specified categories are present in categorical variables."
      ],
      "metadata": {
        "id": "VzlV9smYVwtw"
      }
    },
    {
      "cell_type": "markdown",
      "source": [
        "### Check for Missing Values"
      ],
      "metadata": {
        "id": "bXKUkUEVT6DJ"
      }
    },
    {
      "cell_type": "code",
      "source": [
        "# Check for missing values in the training dataset\n",
        "sum(is.na(train_data))"
      ],
      "metadata": {
        "colab": {
          "base_uri": "https://localhost:8080/",
          "height": 34
        },
        "id": "rkrg7bdAQm1m",
        "outputId": "1584cb85-2432-41d0-8546-549a78f8b6e3"
      },
      "execution_count": 4,
      "outputs": [
        {
          "output_type": "display_data",
          "data": {
            "text/html": [
              "0"
            ],
            "text/markdown": "0",
            "text/latex": "0",
            "text/plain": [
              "[1] 0"
            ]
          },
          "metadata": {}
        }
      ]
    },
    {
      "cell_type": "markdown",
      "source": [
        "The output is zero, meaning there are no missing values (NA) in the train_data dataset. Every element in the dataset has a defined, non-missing value. This is generally a good sign for data quality, as missing data can complicate analysis and require additional steps for handling."
      ],
      "metadata": {
        "id": "b44AlY4xT2TI"
      }
    },
    {
      "cell_type": "markdown",
      "source": [
        "## Data Type Conversion\n",
        "\n",
        "Convert the variables to their appropriate data types based on the descriptions provided."
      ],
      "metadata": {
        "id": "MgadgfFjX5eZ"
      }
    },
    {
      "cell_type": "code",
      "source": [
        "# Ensure dplyr is installed and loaded\n",
        "if (!require(dplyr)) install.packages(\"dplyr\")\n",
        "library(dplyr)\n",
        "\n",
        "# Check if 'X2' column exists in train_data\n",
        "if(\"X2\" %in% colnames(train_data)) {\n",
        "  # Directly convert columns using dplyr's mutate and mutate_at functions\n",
        "  train_data <- train_data %>%\n",
        "    mutate(\n",
        "      X2 = factor(X2, levels = c(1, 2), labels = c(\"Male\", \"Female\")),\n",
        "      X3 = factor(X3, levels = c(1, 2, 3, 4), labels = c(\"Graduate School\", \"University\", \"High School\", \"Others\")),\n",
        "      X4 = factor(X4, levels = c(1, 2, 3), labels = c(\"Married\", \"Single\", \"Others\"))\n",
        "    ) %>%\n",
        "    mutate_at(vars(X6:X11), funs(factor(., ordered = TRUE)))\n",
        "} else {\n",
        "  print(\"Column 'X2' not found in train_data\")\n",
        "}\n"
      ],
      "metadata": {
        "colab": {
          "base_uri": "https://localhost:8080/"
        },
        "id": "D-r43rG1X_kl",
        "outputId": "063a6b0e-bc47-4c76-c11e-beb7a60f74ef"
      },
      "execution_count": 7,
      "outputs": [
        {
          "output_type": "stream",
          "name": "stderr",
          "text": [
            "Warning message:\n",
            "“\u001b[1m\u001b[22m`funs()` was deprecated in dplyr 0.8.0.\n",
            "\u001b[36mℹ\u001b[39m Please use a list of either functions or lambdas:\n",
            "\n",
            "# Simple named list: list(mean = mean, median = median)\n",
            "\n",
            "# Auto named with `tibble::lst()`: tibble::lst(mean, median)\n",
            "\n",
            "# Using lambdas list(~ mean(., trim = .2), ~ median(., na.rm = TRUE))”\n"
          ]
        }
      ]
    }
  ]
}