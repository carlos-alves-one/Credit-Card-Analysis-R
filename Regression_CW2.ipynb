{
  "nbformat": 4,
  "nbformat_minor": 0,
  "metadata": {
    "colab": {
      "provenance": [],
      "toc_visible": true,
      "authorship_tag": "ABX9TyPyqskvfgVu3hjtJeOc85Qf",
      "include_colab_link": true
    },
    "kernelspec": {
      "name": "ir",
      "display_name": "R"
    },
    "language_info": {
      "name": "R"
    }
  },
  "cells": [
    {
      "cell_type": "markdown",
      "metadata": {
        "id": "view-in-github",
        "colab_type": "text"
      },
      "source": [
        "<a href=\"https://colab.research.google.com/github/carlos-alves-one/-SSDM-Coursework-2/blob/main/Regression_CW2.ipynb\" target=\"_parent\"><img src=\"https://colab.research.google.com/assets/colab-badge.svg\" alt=\"Open In Colab\"/></a>"
      ]
    },
    {
      "cell_type": "markdown",
      "source": [
        "### Goldsmiths University of London\n",
        "### MSc. Data Science and Artificial Intelligence\n",
        "### Module: Statistics and Statistical Data Mining\n",
        "### Author: Carlos Manuel De Oliveira Alves\n",
        "### Student: cdeol003\n",
        "### Coursework No.2"
      ],
      "metadata": {
        "id": "beN6QUytMVU9"
      }
    },
    {
      "cell_type": "markdown",
      "source": [
        "### Load the data\n",
        "\n",
        "> Run the code in Python 3"
      ],
      "metadata": {
        "id": "KSNCRhxthRVf"
      }
    },
    {
      "cell_type": "code",
      "execution_count": 1,
      "metadata": {
        "colab": {
          "base_uri": "https://localhost:8080/"
        },
        "id": "smKUdIneMLLc",
        "outputId": "4ca40828-32ff-4198-c9e1-b517d630a9ac"
      },
      "outputs": [
        {
          "output_type": "stream",
          "name": "stdout",
          "text": [
            "Mounted at /content/drive\n"
          ]
        }
      ],
      "source": [
        "# Imports the 'drive' module from 'google.colab' and mounts the Google Drive to\n",
        "# the '/content/drive' directory in the Colab environment.\n",
        "from google.colab import drive\n",
        "drive.mount('/content/drive')\n"
      ]
    },
    {
      "cell_type": "markdown",
      "source": [
        "> Run the code in R"
      ],
      "metadata": {
        "id": "EIgITd7EicLq"
      }
    },
    {
      "cell_type": "code",
      "source": [
        "# Load necessary libraries for this project\n",
        "library(tidyverse)    # for data manipulation and visualization\n",
        "\n",
        "install.packages(\"caret\")\n",
        "library(caret)        # for machine learning\n",
        "\n",
        "library(rpart)        # for decision trees\n",
        "\n",
        "install.packages(\"randomForest\")\n",
        "library(randomForest) # for random forest algorithm\n",
        "\n",
        "install.packages(\"gbm\")\n",
        "library(gbm)          # for gradient boosting machines\n",
        "\n",
        "library(e1071)        # for SVM and other algorithms\n",
        "\n",
        "# Load the 'readr' library for data import and manipulation in R\n",
        "library(readr)\n",
        "\n",
        "# Set seed for reproducibility\n",
        "set.seed(123)\n"
      ],
      "metadata": {
        "colab": {
          "base_uri": "https://localhost:8080/"
        },
        "id": "nP3Ve8TpBPdU",
        "outputId": "dda63bd2-f634-4494-b72f-81a3d93fc095"
      },
      "execution_count": 10,
      "outputs": [
        {
          "output_type": "stream",
          "name": "stderr",
          "text": [
            "Installing package into ‘/usr/local/lib/R/site-library’\n",
            "(as ‘lib’ is unspecified)\n",
            "\n",
            "Installing package into ‘/usr/local/lib/R/site-library’\n",
            "(as ‘lib’ is unspecified)\n",
            "\n",
            "Installing package into ‘/usr/local/lib/R/site-library’\n",
            "(as ‘lib’ is unspecified)\n",
            "\n"
          ]
        }
      ]
    },
    {
      "cell_type": "code",
      "source": [
        "# Loading the datasets using base R read.csv function\n",
        "train_data <- read.csv(\"/content/drive/MyDrive/credit_risk/creditdefault_train.csv\", sep = \";\")\n",
        "test_data  <- read.csv(\"/content/drive/MyDrive/credit_risk/creditdefault_train.csv\", sep = \";\")\n",
        "\n",
        "# Displaying the first few rows of the Credit Default training dataset\n",
        "head(train_data)\n",
        "\n",
        "# Displaying the first few rows of the Credit Default test dataset\n",
        "head(test_data)\n"
      ],
      "metadata": {
        "colab": {
          "base_uri": "https://localhost:8080/",
          "height": 555
        },
        "id": "xVwcyz6Pic3u",
        "outputId": "7ceb1ed8-5f5b-42ec-90ae-d883b0c94efc"
      },
      "execution_count": 12,
      "outputs": [
        {
          "output_type": "display_data",
          "data": {
            "text/html": [
              "<table class=\"dataframe\">\n",
              "<caption>A data.frame: 6 × 1</caption>\n",
              "<thead>\n",
              "\t<tr><th></th><th scope=col>Y.X1.X2.X3.X4.X5.X6.X7.X8.X9.X10.X11.X12.X13.X14.X15.X16.X17.X18.X19.X20.X21.X22.X23</th></tr>\n",
              "\t<tr><th></th><th scope=col>&lt;chr&gt;</th></tr>\n",
              "</thead>\n",
              "<tbody>\n",
              "\t<tr><th scope=row>1</th><td>1,20000,2,2,1,24,2,2,-1,-1,-2,-2,3913,3102,689,0,0,0,0,689,0,0,0,0                                         </td></tr>\n",
              "\t<tr><th scope=row>2</th><td>0,50000,2,2,1,37,0,0,0,0,0,0,46990,48233,49291,28314,28959,29547,2000,2019,1200,1100,1069,1000             </td></tr>\n",
              "\t<tr><th scope=row>3</th><td>0,50000,1,2,1,57,-1,0,-1,0,0,0,8617,5670,35835,20940,19146,19131,2000,36681,10000,9000,689,679             </td></tr>\n",
              "\t<tr><th scope=row>4</th><td>0,50000,1,1,2,37,0,0,0,0,0,0,64400,57069,57608,19394,19619,20024,2500,1815,657,1000,1000,800               </td></tr>\n",
              "\t<tr><th scope=row>5</th><td>0,500000,1,1,2,29,0,0,0,0,0,0,367965,412023,445007,542653,483003,473944,55000,40000,38000,20239,13750,13770</td></tr>\n",
              "\t<tr><th scope=row>6</th><td>0,100000,2,2,2,23,0,-1,-1,0,0,-1,11876,380,601,221,-159,567,380,601,0,581,1687,1542                        </td></tr>\n",
              "</tbody>\n",
              "</table>\n"
            ],
            "text/markdown": "\nA data.frame: 6 × 1\n\n| <!--/--> | Y.X1.X2.X3.X4.X5.X6.X7.X8.X9.X10.X11.X12.X13.X14.X15.X16.X17.X18.X19.X20.X21.X22.X23 &lt;chr&gt; |\n|---|---|\n| 1 | 1,20000,2,2,1,24,2,2,-1,-1,-2,-2,3913,3102,689,0,0,0,0,689,0,0,0,0                                          |\n| 2 | 0,50000,2,2,1,37,0,0,0,0,0,0,46990,48233,49291,28314,28959,29547,2000,2019,1200,1100,1069,1000              |\n| 3 | 0,50000,1,2,1,57,-1,0,-1,0,0,0,8617,5670,35835,20940,19146,19131,2000,36681,10000,9000,689,679              |\n| 4 | 0,50000,1,1,2,37,0,0,0,0,0,0,64400,57069,57608,19394,19619,20024,2500,1815,657,1000,1000,800                |\n| 5 | 0,500000,1,1,2,29,0,0,0,0,0,0,367965,412023,445007,542653,483003,473944,55000,40000,38000,20239,13750,13770 |\n| 6 | 0,100000,2,2,2,23,0,-1,-1,0,0,-1,11876,380,601,221,-159,567,380,601,0,581,1687,1542                         |\n\n",
            "text/latex": "A data.frame: 6 × 1\n\\begin{tabular}{r|l}\n  & Y.X1.X2.X3.X4.X5.X6.X7.X8.X9.X10.X11.X12.X13.X14.X15.X16.X17.X18.X19.X20.X21.X22.X23\\\\\n  & <chr>\\\\\n\\hline\n\t1 & 1,20000,2,2,1,24,2,2,-1,-1,-2,-2,3913,3102,689,0,0,0,0,689,0,0,0,0                                         \\\\\n\t2 & 0,50000,2,2,1,37,0,0,0,0,0,0,46990,48233,49291,28314,28959,29547,2000,2019,1200,1100,1069,1000             \\\\\n\t3 & 0,50000,1,2,1,57,-1,0,-1,0,0,0,8617,5670,35835,20940,19146,19131,2000,36681,10000,9000,689,679             \\\\\n\t4 & 0,50000,1,1,2,37,0,0,0,0,0,0,64400,57069,57608,19394,19619,20024,2500,1815,657,1000,1000,800               \\\\\n\t5 & 0,500000,1,1,2,29,0,0,0,0,0,0,367965,412023,445007,542653,483003,473944,55000,40000,38000,20239,13750,13770\\\\\n\t6 & 0,100000,2,2,2,23,0,-1,-1,0,0,-1,11876,380,601,221,-159,567,380,601,0,581,1687,1542                        \\\\\n\\end{tabular}\n",
            "text/plain": [
              "  Y.X1.X2.X3.X4.X5.X6.X7.X8.X9.X10.X11.X12.X13.X14.X15.X16.X17.X18.X19.X20.X21.X22.X23                       \n",
              "1 1,20000,2,2,1,24,2,2,-1,-1,-2,-2,3913,3102,689,0,0,0,0,689,0,0,0,0                                         \n",
              "2 0,50000,2,2,1,37,0,0,0,0,0,0,46990,48233,49291,28314,28959,29547,2000,2019,1200,1100,1069,1000             \n",
              "3 0,50000,1,2,1,57,-1,0,-1,0,0,0,8617,5670,35835,20940,19146,19131,2000,36681,10000,9000,689,679             \n",
              "4 0,50000,1,1,2,37,0,0,0,0,0,0,64400,57069,57608,19394,19619,20024,2500,1815,657,1000,1000,800               \n",
              "5 0,500000,1,1,2,29,0,0,0,0,0,0,367965,412023,445007,542653,483003,473944,55000,40000,38000,20239,13750,13770\n",
              "6 0,100000,2,2,2,23,0,-1,-1,0,0,-1,11876,380,601,221,-159,567,380,601,0,581,1687,1542                        "
            ]
          },
          "metadata": {}
        },
        {
          "output_type": "display_data",
          "data": {
            "text/html": [
              "<table class=\"dataframe\">\n",
              "<caption>A data.frame: 6 × 1</caption>\n",
              "<thead>\n",
              "\t<tr><th></th><th scope=col>Y.X1.X2.X3.X4.X5.X6.X7.X8.X9.X10.X11.X12.X13.X14.X15.X16.X17.X18.X19.X20.X21.X22.X23</th></tr>\n",
              "\t<tr><th></th><th scope=col>&lt;chr&gt;</th></tr>\n",
              "</thead>\n",
              "<tbody>\n",
              "\t<tr><th scope=row>1</th><td>1,20000,2,2,1,24,2,2,-1,-1,-2,-2,3913,3102,689,0,0,0,0,689,0,0,0,0                                         </td></tr>\n",
              "\t<tr><th scope=row>2</th><td>0,50000,2,2,1,37,0,0,0,0,0,0,46990,48233,49291,28314,28959,29547,2000,2019,1200,1100,1069,1000             </td></tr>\n",
              "\t<tr><th scope=row>3</th><td>0,50000,1,2,1,57,-1,0,-1,0,0,0,8617,5670,35835,20940,19146,19131,2000,36681,10000,9000,689,679             </td></tr>\n",
              "\t<tr><th scope=row>4</th><td>0,50000,1,1,2,37,0,0,0,0,0,0,64400,57069,57608,19394,19619,20024,2500,1815,657,1000,1000,800               </td></tr>\n",
              "\t<tr><th scope=row>5</th><td>0,500000,1,1,2,29,0,0,0,0,0,0,367965,412023,445007,542653,483003,473944,55000,40000,38000,20239,13750,13770</td></tr>\n",
              "\t<tr><th scope=row>6</th><td>0,100000,2,2,2,23,0,-1,-1,0,0,-1,11876,380,601,221,-159,567,380,601,0,581,1687,1542                        </td></tr>\n",
              "</tbody>\n",
              "</table>\n"
            ],
            "text/markdown": "\nA data.frame: 6 × 1\n\n| <!--/--> | Y.X1.X2.X3.X4.X5.X6.X7.X8.X9.X10.X11.X12.X13.X14.X15.X16.X17.X18.X19.X20.X21.X22.X23 &lt;chr&gt; |\n|---|---|\n| 1 | 1,20000,2,2,1,24,2,2,-1,-1,-2,-2,3913,3102,689,0,0,0,0,689,0,0,0,0                                          |\n| 2 | 0,50000,2,2,1,37,0,0,0,0,0,0,46990,48233,49291,28314,28959,29547,2000,2019,1200,1100,1069,1000              |\n| 3 | 0,50000,1,2,1,57,-1,0,-1,0,0,0,8617,5670,35835,20940,19146,19131,2000,36681,10000,9000,689,679              |\n| 4 | 0,50000,1,1,2,37,0,0,0,0,0,0,64400,57069,57608,19394,19619,20024,2500,1815,657,1000,1000,800                |\n| 5 | 0,500000,1,1,2,29,0,0,0,0,0,0,367965,412023,445007,542653,483003,473944,55000,40000,38000,20239,13750,13770 |\n| 6 | 0,100000,2,2,2,23,0,-1,-1,0,0,-1,11876,380,601,221,-159,567,380,601,0,581,1687,1542                         |\n\n",
            "text/latex": "A data.frame: 6 × 1\n\\begin{tabular}{r|l}\n  & Y.X1.X2.X3.X4.X5.X6.X7.X8.X9.X10.X11.X12.X13.X14.X15.X16.X17.X18.X19.X20.X21.X22.X23\\\\\n  & <chr>\\\\\n\\hline\n\t1 & 1,20000,2,2,1,24,2,2,-1,-1,-2,-2,3913,3102,689,0,0,0,0,689,0,0,0,0                                         \\\\\n\t2 & 0,50000,2,2,1,37,0,0,0,0,0,0,46990,48233,49291,28314,28959,29547,2000,2019,1200,1100,1069,1000             \\\\\n\t3 & 0,50000,1,2,1,57,-1,0,-1,0,0,0,8617,5670,35835,20940,19146,19131,2000,36681,10000,9000,689,679             \\\\\n\t4 & 0,50000,1,1,2,37,0,0,0,0,0,0,64400,57069,57608,19394,19619,20024,2500,1815,657,1000,1000,800               \\\\\n\t5 & 0,500000,1,1,2,29,0,0,0,0,0,0,367965,412023,445007,542653,483003,473944,55000,40000,38000,20239,13750,13770\\\\\n\t6 & 0,100000,2,2,2,23,0,-1,-1,0,0,-1,11876,380,601,221,-159,567,380,601,0,581,1687,1542                        \\\\\n\\end{tabular}\n",
            "text/plain": [
              "  Y.X1.X2.X3.X4.X5.X6.X7.X8.X9.X10.X11.X12.X13.X14.X15.X16.X17.X18.X19.X20.X21.X22.X23                       \n",
              "1 1,20000,2,2,1,24,2,2,-1,-1,-2,-2,3913,3102,689,0,0,0,0,689,0,0,0,0                                         \n",
              "2 0,50000,2,2,1,37,0,0,0,0,0,0,46990,48233,49291,28314,28959,29547,2000,2019,1200,1100,1069,1000             \n",
              "3 0,50000,1,2,1,57,-1,0,-1,0,0,0,8617,5670,35835,20940,19146,19131,2000,36681,10000,9000,689,679             \n",
              "4 0,50000,1,1,2,37,0,0,0,0,0,0,64400,57069,57608,19394,19619,20024,2500,1815,657,1000,1000,800               \n",
              "5 0,500000,1,1,2,29,0,0,0,0,0,0,367965,412023,445007,542653,483003,473944,55000,40000,38000,20239,13750,13770\n",
              "6 0,100000,2,2,2,23,0,-1,-1,0,0,-1,11876,380,601,221,-159,567,380,601,0,581,1687,1542                        "
            ]
          },
          "metadata": {}
        }
      ]
    },
    {
      "cell_type": "markdown",
      "source": [
        "# Problem Formulation\n",
        "\n",
        "This project aims to predict whether a credit card holder will default on their payment in the next month. We will use a binary classification approach with the response variable Y indicating default payment (Yes = 1, No = 0). The challenge is to build and select a predictive model that performs well on unseen data, balancing the trade-off between underfitting and overfitting."
      ],
      "metadata": {
        "id": "tMLX9j6bBOcg"
      }
    },
    {
      "cell_type": "markdown",
      "source": [
        "# Data Exploratory Analysis"
      ],
      "metadata": {
        "id": "jysLkIKNNz_2"
      }
    },
    {
      "cell_type": "markdown",
      "source": [
        "## Initial Exploration of the Dataset"
      ],
      "metadata": {
        "id": "4WturV_QS_Yc"
      }
    },
    {
      "cell_type": "code",
      "source": [
        "# Exploratory Data Analysis\n",
        "# Summary of the training data\n",
        "summary(train_data)"
      ],
      "metadata": {
        "colab": {
          "base_uri": "https://localhost:8080/",
          "height": 86
        },
        "id": "GfGNZWpBN1T0",
        "outputId": "259d24db-9572-4ff6-d2ba-685c9a92dde8"
      },
      "execution_count": 13,
      "outputs": [
        {
          "output_type": "display_data",
          "data": {
            "text/plain": [
              " Y.X1.X2.X3.X4.X5.X6.X7.X8.X9.X10.X11.X12.X13.X14.X15.X16.X17.X18.X19.X20.X21.X22.X23\n",
              " Length:15000                                                                        \n",
              " Class :character                                                                    \n",
              " Mode  :character                                                                    "
            ]
          },
          "metadata": {}
        }
      ]
    },
    {
      "cell_type": "markdown",
      "source": [
        "**Given the detailed information about the variables in the dataset, we can draw some conclusions and suggest potential steps for further analysis:**\n",
        "\n",
        "- The dataset contains 24 columns and 15,000 rows, all being integer type"
      ],
      "metadata": {
        "id": "LrHnCCjHQIJo"
      }
    },
    {
      "cell_type": "markdown",
      "source": [
        "## Variable Types and Conversion\n"
      ],
      "metadata": {
        "id": "PLWmIh9wQlFh"
      }
    },
    {
      "cell_type": "markdown",
      "source": [
        "- X1 (Credit Amount): This should be a numeric variable as it represents amounts in dollars.\n",
        "\n",
        "- X2 (Gender): Since it is coded as 1 (male) and 2 (female), it is a categorical variable. Consider converting it to a factor with two levels.\n",
        "\n",
        "- X3 (Education), X4 (Marital Status): These are categorical variables and should be converted to factors with their respective levels.\n",
        "\n",
        "- X5 (Age): This is a numeric variable.\n",
        "\n",
        "- X6-X11 (Repayment Status): These are ordinal categorical variables. They have an inherent order (-1, 1, 2, ..., 9) and should be treated as factors with ordered levels.\n",
        "\n",
        "- X12-X17 (Bill Statement Amount), X18-X23 (Previous Payment Amount): These should be numeric variables representing monetary values.\n"
      ],
      "metadata": {
        "id": "5ppmBdBmR9nj"
      }
    },
    {
      "cell_type": "markdown",
      "source": [
        "## Data Integrity and Cleaning\n",
        "\n",
        "- We need to ensure that the data types in the dataset match these specifications. They must be converted to the appropriate types if they are all currently 'character' types.\n",
        "\n",
        "- Check for missing or unusual values. For example, ensure that only the specified categories are present in categorical variables."
      ],
      "metadata": {
        "id": "VzlV9smYVwtw"
      }
    },
    {
      "cell_type": "markdown",
      "source": [
        "### Check for Missing Values"
      ],
      "metadata": {
        "id": "bXKUkUEVT6DJ"
      }
    },
    {
      "cell_type": "code",
      "source": [
        "# Check for missing values in the training dataset\n",
        "sum(is.na(train_data))"
      ],
      "metadata": {
        "colab": {
          "base_uri": "https://localhost:8080/",
          "height": 34
        },
        "id": "rkrg7bdAQm1m",
        "outputId": "ce3f0b49-0462-4fb6-dd87-a7df84801c54"
      },
      "execution_count": 14,
      "outputs": [
        {
          "output_type": "display_data",
          "data": {
            "text/html": [
              "0"
            ],
            "text/markdown": "0",
            "text/latex": "0",
            "text/plain": [
              "[1] 0"
            ]
          },
          "metadata": {}
        }
      ]
    },
    {
      "cell_type": "markdown",
      "source": [
        "The output is zero, meaning there are no missing values (NA) in the train_data dataset. Every element in the dataset has a defined, non-missing value. This is generally a good sign for data quality, as missing data can complicate analysis and require additional steps for handling."
      ],
      "metadata": {
        "id": "b44AlY4xT2TI"
      }
    },
    {
      "cell_type": "markdown",
      "source": [
        "## Data Type Conversion\n",
        "\n",
        "Convert the variables to their appropriate data types based on the descriptions provided."
      ],
      "metadata": {
        "id": "MgadgfFjX5eZ"
      }
    },
    {
      "cell_type": "code",
      "source": [
        "# Ensure dplyr is installed and loaded\n",
        "if (!require(dplyr)) install.packages(\"dplyr\")\n",
        "library(dplyr)\n",
        "\n",
        "# Load your data into train_data\n",
        "# train_data <- read.csv(\"path_to_your_csv_file.csv\")\n",
        "\n",
        "# Check if 'X2' column exists in train_data\n",
        "if(\"X2\" %in% colnames(train_data)) {\n",
        "  # Directly convert columns using dplyr's mutate and mutate_at functions\n",
        "  train_data <- train_data %>%\n",
        "    mutate(\n",
        "      X2 = factor(X2, levels = c(1, 2), labels = c(\"Male\", \"Female\")),\n",
        "      X3 = factor(X3, levels = c(1, 2, 3, 4), labels = c(\"Graduate School\", \"University\", \"High School\", \"Others\")),\n",
        "      X4 = factor(X4, levels = c(1, 2, 3), labels = c(\"Married\", \"Single\", \"Others\"))\n",
        "    ) %>%\n",
        "    mutate_at(vars(X6:X11), funs(factor(., ordered = TRUE)))\n",
        "} else {\n",
        "  stop(\"Column 'X2' not found in train_data\")\n",
        "}\n",
        "\n",
        "# Rest of your code...\n"
      ],
      "metadata": {
        "colab": {
          "base_uri": "https://localhost:8080/",
          "height": 142
        },
        "id": "D-r43rG1X_kl",
        "outputId": "4f5f9cc2-fe48-4476-d19a-5952d3456ff7"
      },
      "execution_count": 25,
      "outputs": [
        {
          "output_type": "error",
          "ename": "ERROR",
          "evalue": "ignored",
          "traceback": [
            "Error in eval(expr, envir, enclos): Column 'X2' not found in train_data\nTraceback:\n",
            "1. stop(\"Column 'X2' not found in train_data\")   # at line 19 of file <text>"
          ]
        }
      ]
    }
  ]
}