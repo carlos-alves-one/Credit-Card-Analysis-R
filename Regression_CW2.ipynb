{
  "nbformat": 4,
  "nbformat_minor": 0,
  "metadata": {
    "colab": {
      "provenance": [],
      "toc_visible": true,
      "authorship_tag": "ABX9TyOi20X0AQ4EMEfKULnVdT4s",
      "include_colab_link": true
    },
    "kernelspec": {
      "name": "ir",
      "display_name": "R"
    },
    "language_info": {
      "name": "R"
    }
  },
  "cells": [
    {
      "cell_type": "markdown",
      "metadata": {
        "id": "view-in-github",
        "colab_type": "text"
      },
      "source": [
        "<a href=\"https://colab.research.google.com/github/carlos-alves-one/-SSDM-Coursework-2/blob/main/Regression_CW2.ipynb\" target=\"_parent\"><img src=\"https://colab.research.google.com/assets/colab-badge.svg\" alt=\"Open In Colab\"/></a>"
      ]
    },
    {
      "cell_type": "markdown",
      "source": [
        "### Goldsmiths University of London\n",
        "### MSc. Data Science and Artificial Intelligence\n",
        "### Module: Statistics and Statistical Data Mining\n",
        "### Author: Carlos Manuel De Oliveira Alves\n",
        "### Student: cdeol003\n",
        "### Coursework No.2"
      ],
      "metadata": {
        "id": "beN6QUytMVU9"
      }
    },
    {
      "cell_type": "markdown",
      "source": [
        "### Load the data\n",
        "\n",
        "> Run the code in Python 3"
      ],
      "metadata": {
        "id": "KSNCRhxthRVf"
      }
    },
    {
      "cell_type": "code",
      "execution_count": 1,
      "metadata": {
        "colab": {
          "base_uri": "https://localhost:8080/"
        },
        "id": "smKUdIneMLLc",
        "outputId": "4ca40828-32ff-4198-c9e1-b517d630a9ac"
      },
      "outputs": [
        {
          "output_type": "stream",
          "name": "stdout",
          "text": [
            "Mounted at /content/drive\n"
          ]
        }
      ],
      "source": [
        "# Imports the 'drive' module from 'google.colab' and mounts the Google Drive to\n",
        "# the '/content/drive' directory in the Colab environment.\n",
        "from google.colab import drive\n",
        "drive.mount('/content/drive')\n"
      ]
    },
    {
      "cell_type": "markdown",
      "source": [
        "> Run the code in R"
      ],
      "metadata": {
        "id": "EIgITd7EicLq"
      }
    },
    {
      "cell_type": "code",
      "source": [
        "# Load necessary libraries for this project\n",
        "library(tidyverse)    # for data manipulation and visualization\n",
        "\n",
        "install.packages(\"caret\")\n",
        "library(caret)        # for machine learning\n",
        "\n",
        "library(rpart)        # for decision trees\n",
        "\n",
        "install.packages(\"randomForest\")\n",
        "library(randomForest) # for random forest algorithm\n",
        "\n",
        "install.packages(\"gbm\")\n",
        "library(gbm)          # for gradient boosting machines\n",
        "\n",
        "library(e1071)        # for SVM and other algorithms\n",
        "\n",
        "# Load the 'readr' library for data import and manipulation in R\n",
        "library(readr)\n",
        "\n",
        "# Set seed for reproducibility\n",
        "set.seed(123)\n"
      ],
      "metadata": {
        "colab": {
          "base_uri": "https://localhost:8080/"
        },
        "id": "nP3Ve8TpBPdU",
        "outputId": "dda63bd2-f634-4494-b72f-81a3d93fc095"
      },
      "execution_count": 10,
      "outputs": [
        {
          "output_type": "stream",
          "name": "stderr",
          "text": [
            "Installing package into ‘/usr/local/lib/R/site-library’\n",
            "(as ‘lib’ is unspecified)\n",
            "\n",
            "Installing package into ‘/usr/local/lib/R/site-library’\n",
            "(as ‘lib’ is unspecified)\n",
            "\n",
            "Installing package into ‘/usr/local/lib/R/site-library’\n",
            "(as ‘lib’ is unspecified)\n",
            "\n"
          ]
        }
      ]
    },
    {
      "cell_type": "code",
      "source": [
        "# Loading the datasets using base R read.csv function\n",
        "train_data <- read.csv(\"/content/drive/MyDrive/credit_risk/creditdefault_train.csv\", sep = \";\")\n",
        "test_data  <- read.csv(\"/content/drive/MyDrive/credit_risk/creditdefault_train.csv\", sep = \";\")\n",
        "\n",
        "# Displaying the first few rows of the Credit Default training dataset\n",
        "head(train_data)\n",
        "\n",
        "# Displaying the first few rows of the Credit Default test dataset\n",
        "head(test_data)\n"
      ],
      "metadata": {
        "colab": {
          "base_uri": "https://localhost:8080/",
          "height": 555
        },
        "id": "xVwcyz6Pic3u",
        "outputId": "4ffb38c6-6b3f-45c7-e98e-bf1447420c09"
      },
      "execution_count": 11,
      "outputs": [
        {
          "output_type": "display_data",
          "data": {
            "text/html": [
              "<table class=\"dataframe\">\n",
              "<caption>A data.frame: 6 × 1</caption>\n",
              "<thead>\n",
              "\t<tr><th></th><th scope=col>Y.X1.X2.X3.X4.X5.X6.X7.X8.X9.X10.X11.X12.X13.X14.X15.X16.X17.X18.X19.X20.X21.X22.X23</th></tr>\n",
              "\t<tr><th></th><th scope=col>&lt;chr&gt;</th></tr>\n",
              "</thead>\n",
              "<tbody>\n",
              "\t<tr><th scope=row>1</th><td>1,20000,2,2,1,24,2,2,-1,-1,-2,-2,3913,3102,689,0,0,0,0,689,0,0,0,0                                         </td></tr>\n",
              "\t<tr><th scope=row>2</th><td>0,50000,2,2,1,37,0,0,0,0,0,0,46990,48233,49291,28314,28959,29547,2000,2019,1200,1100,1069,1000             </td></tr>\n",
              "\t<tr><th scope=row>3</th><td>0,50000,1,2,1,57,-1,0,-1,0,0,0,8617,5670,35835,20940,19146,19131,2000,36681,10000,9000,689,679             </td></tr>\n",
              "\t<tr><th scope=row>4</th><td>0,50000,1,1,2,37,0,0,0,0,0,0,64400,57069,57608,19394,19619,20024,2500,1815,657,1000,1000,800               </td></tr>\n",
              "\t<tr><th scope=row>5</th><td>0,500000,1,1,2,29,0,0,0,0,0,0,367965,412023,445007,542653,483003,473944,55000,40000,38000,20239,13750,13770</td></tr>\n",
              "\t<tr><th scope=row>6</th><td>0,100000,2,2,2,23,0,-1,-1,0,0,-1,11876,380,601,221,-159,567,380,601,0,581,1687,1542                        </td></tr>\n",
              "</tbody>\n",
              "</table>\n"
            ],
            "text/markdown": "\nA data.frame: 6 × 1\n\n| <!--/--> | Y.X1.X2.X3.X4.X5.X6.X7.X8.X9.X10.X11.X12.X13.X14.X15.X16.X17.X18.X19.X20.X21.X22.X23 &lt;chr&gt; |\n|---|---|\n| 1 | 1,20000,2,2,1,24,2,2,-1,-1,-2,-2,3913,3102,689,0,0,0,0,689,0,0,0,0                                          |\n| 2 | 0,50000,2,2,1,37,0,0,0,0,0,0,46990,48233,49291,28314,28959,29547,2000,2019,1200,1100,1069,1000              |\n| 3 | 0,50000,1,2,1,57,-1,0,-1,0,0,0,8617,5670,35835,20940,19146,19131,2000,36681,10000,9000,689,679              |\n| 4 | 0,50000,1,1,2,37,0,0,0,0,0,0,64400,57069,57608,19394,19619,20024,2500,1815,657,1000,1000,800                |\n| 5 | 0,500000,1,1,2,29,0,0,0,0,0,0,367965,412023,445007,542653,483003,473944,55000,40000,38000,20239,13750,13770 |\n| 6 | 0,100000,2,2,2,23,0,-1,-1,0,0,-1,11876,380,601,221,-159,567,380,601,0,581,1687,1542                         |\n\n",
            "text/latex": "A data.frame: 6 × 1\n\\begin{tabular}{r|l}\n  & Y.X1.X2.X3.X4.X5.X6.X7.X8.X9.X10.X11.X12.X13.X14.X15.X16.X17.X18.X19.X20.X21.X22.X23\\\\\n  & <chr>\\\\\n\\hline\n\t1 & 1,20000,2,2,1,24,2,2,-1,-1,-2,-2,3913,3102,689,0,0,0,0,689,0,0,0,0                                         \\\\\n\t2 & 0,50000,2,2,1,37,0,0,0,0,0,0,46990,48233,49291,28314,28959,29547,2000,2019,1200,1100,1069,1000             \\\\\n\t3 & 0,50000,1,2,1,57,-1,0,-1,0,0,0,8617,5670,35835,20940,19146,19131,2000,36681,10000,9000,689,679             \\\\\n\t4 & 0,50000,1,1,2,37,0,0,0,0,0,0,64400,57069,57608,19394,19619,20024,2500,1815,657,1000,1000,800               \\\\\n\t5 & 0,500000,1,1,2,29,0,0,0,0,0,0,367965,412023,445007,542653,483003,473944,55000,40000,38000,20239,13750,13770\\\\\n\t6 & 0,100000,2,2,2,23,0,-1,-1,0,0,-1,11876,380,601,221,-159,567,380,601,0,581,1687,1542                        \\\\\n\\end{tabular}\n",
            "text/plain": [
              "  Y.X1.X2.X3.X4.X5.X6.X7.X8.X9.X10.X11.X12.X13.X14.X15.X16.X17.X18.X19.X20.X21.X22.X23                       \n",
              "1 1,20000,2,2,1,24,2,2,-1,-1,-2,-2,3913,3102,689,0,0,0,0,689,0,0,0,0                                         \n",
              "2 0,50000,2,2,1,37,0,0,0,0,0,0,46990,48233,49291,28314,28959,29547,2000,2019,1200,1100,1069,1000             \n",
              "3 0,50000,1,2,1,57,-1,0,-1,0,0,0,8617,5670,35835,20940,19146,19131,2000,36681,10000,9000,689,679             \n",
              "4 0,50000,1,1,2,37,0,0,0,0,0,0,64400,57069,57608,19394,19619,20024,2500,1815,657,1000,1000,800               \n",
              "5 0,500000,1,1,2,29,0,0,0,0,0,0,367965,412023,445007,542653,483003,473944,55000,40000,38000,20239,13750,13770\n",
              "6 0,100000,2,2,2,23,0,-1,-1,0,0,-1,11876,380,601,221,-159,567,380,601,0,581,1687,1542                        "
            ]
          },
          "metadata": {}
        },
        {
          "output_type": "display_data",
          "data": {
            "text/html": [
              "<table class=\"dataframe\">\n",
              "<caption>A data.frame: 6 × 1</caption>\n",
              "<thead>\n",
              "\t<tr><th></th><th scope=col>Y.X1.X2.X3.X4.X5.X6.X7.X8.X9.X10.X11.X12.X13.X14.X15.X16.X17.X18.X19.X20.X21.X22.X23</th></tr>\n",
              "\t<tr><th></th><th scope=col>&lt;chr&gt;</th></tr>\n",
              "</thead>\n",
              "<tbody>\n",
              "\t<tr><th scope=row>1</th><td>1,20000,2,2,1,24,2,2,-1,-1,-2,-2,3913,3102,689,0,0,0,0,689,0,0,0,0                                         </td></tr>\n",
              "\t<tr><th scope=row>2</th><td>0,50000,2,2,1,37,0,0,0,0,0,0,46990,48233,49291,28314,28959,29547,2000,2019,1200,1100,1069,1000             </td></tr>\n",
              "\t<tr><th scope=row>3</th><td>0,50000,1,2,1,57,-1,0,-1,0,0,0,8617,5670,35835,20940,19146,19131,2000,36681,10000,9000,689,679             </td></tr>\n",
              "\t<tr><th scope=row>4</th><td>0,50000,1,1,2,37,0,0,0,0,0,0,64400,57069,57608,19394,19619,20024,2500,1815,657,1000,1000,800               </td></tr>\n",
              "\t<tr><th scope=row>5</th><td>0,500000,1,1,2,29,0,0,0,0,0,0,367965,412023,445007,542653,483003,473944,55000,40000,38000,20239,13750,13770</td></tr>\n",
              "\t<tr><th scope=row>6</th><td>0,100000,2,2,2,23,0,-1,-1,0,0,-1,11876,380,601,221,-159,567,380,601,0,581,1687,1542                        </td></tr>\n",
              "</tbody>\n",
              "</table>\n"
            ],
            "text/markdown": "\nA data.frame: 6 × 1\n\n| <!--/--> | Y.X1.X2.X3.X4.X5.X6.X7.X8.X9.X10.X11.X12.X13.X14.X15.X16.X17.X18.X19.X20.X21.X22.X23 &lt;chr&gt; |\n|---|---|\n| 1 | 1,20000,2,2,1,24,2,2,-1,-1,-2,-2,3913,3102,689,0,0,0,0,689,0,0,0,0                                          |\n| 2 | 0,50000,2,2,1,37,0,0,0,0,0,0,46990,48233,49291,28314,28959,29547,2000,2019,1200,1100,1069,1000              |\n| 3 | 0,50000,1,2,1,57,-1,0,-1,0,0,0,8617,5670,35835,20940,19146,19131,2000,36681,10000,9000,689,679              |\n| 4 | 0,50000,1,1,2,37,0,0,0,0,0,0,64400,57069,57608,19394,19619,20024,2500,1815,657,1000,1000,800                |\n| 5 | 0,500000,1,1,2,29,0,0,0,0,0,0,367965,412023,445007,542653,483003,473944,55000,40000,38000,20239,13750,13770 |\n| 6 | 0,100000,2,2,2,23,0,-1,-1,0,0,-1,11876,380,601,221,-159,567,380,601,0,581,1687,1542                         |\n\n",
            "text/latex": "A data.frame: 6 × 1\n\\begin{tabular}{r|l}\n  & Y.X1.X2.X3.X4.X5.X6.X7.X8.X9.X10.X11.X12.X13.X14.X15.X16.X17.X18.X19.X20.X21.X22.X23\\\\\n  & <chr>\\\\\n\\hline\n\t1 & 1,20000,2,2,1,24,2,2,-1,-1,-2,-2,3913,3102,689,0,0,0,0,689,0,0,0,0                                         \\\\\n\t2 & 0,50000,2,2,1,37,0,0,0,0,0,0,46990,48233,49291,28314,28959,29547,2000,2019,1200,1100,1069,1000             \\\\\n\t3 & 0,50000,1,2,1,57,-1,0,-1,0,0,0,8617,5670,35835,20940,19146,19131,2000,36681,10000,9000,689,679             \\\\\n\t4 & 0,50000,1,1,2,37,0,0,0,0,0,0,64400,57069,57608,19394,19619,20024,2500,1815,657,1000,1000,800               \\\\\n\t5 & 0,500000,1,1,2,29,0,0,0,0,0,0,367965,412023,445007,542653,483003,473944,55000,40000,38000,20239,13750,13770\\\\\n\t6 & 0,100000,2,2,2,23,0,-1,-1,0,0,-1,11876,380,601,221,-159,567,380,601,0,581,1687,1542                        \\\\\n\\end{tabular}\n",
            "text/plain": [
              "  Y.X1.X2.X3.X4.X5.X6.X7.X8.X9.X10.X11.X12.X13.X14.X15.X16.X17.X18.X19.X20.X21.X22.X23                       \n",
              "1 1,20000,2,2,1,24,2,2,-1,-1,-2,-2,3913,3102,689,0,0,0,0,689,0,0,0,0                                         \n",
              "2 0,50000,2,2,1,37,0,0,0,0,0,0,46990,48233,49291,28314,28959,29547,2000,2019,1200,1100,1069,1000             \n",
              "3 0,50000,1,2,1,57,-1,0,-1,0,0,0,8617,5670,35835,20940,19146,19131,2000,36681,10000,9000,689,679             \n",
              "4 0,50000,1,1,2,37,0,0,0,0,0,0,64400,57069,57608,19394,19619,20024,2500,1815,657,1000,1000,800               \n",
              "5 0,500000,1,1,2,29,0,0,0,0,0,0,367965,412023,445007,542653,483003,473944,55000,40000,38000,20239,13750,13770\n",
              "6 0,100000,2,2,2,23,0,-1,-1,0,0,-1,11876,380,601,221,-159,567,380,601,0,581,1687,1542                        "
            ]
          },
          "metadata": {}
        }
      ]
    },
    {
      "cell_type": "markdown",
      "source": [
        "# Problem Formulation\n",
        "\n",
        "This project aims to predict whether a credit card holder will default on their payment in the next month. We will use a binary classification approach with the response variable Y indicating default payment (Yes = 1, No = 0). The challenge is to build and select a predictive model that performs well on unseen data, balancing the trade-off between underfitting and overfitting."
      ],
      "metadata": {
        "id": "tMLX9j6bBOcg"
      }
    },
    {
      "cell_type": "markdown",
      "source": [
        "# Data Exploratory Analysis"
      ],
      "metadata": {
        "id": "jysLkIKNNz_2"
      }
    },
    {
      "cell_type": "markdown",
      "source": [
        "## Initial Exploration of the Dataset"
      ],
      "metadata": {
        "id": "4WturV_QS_Yc"
      }
    },
    {
      "cell_type": "code",
      "source": [
        "# Exploratory Data Analysis\n",
        "# Summary of the training data\n",
        "summary(train_data)"
      ],
      "metadata": {
        "colab": {
          "base_uri": "https://localhost:8080/",
          "height": 86
        },
        "id": "GfGNZWpBN1T0",
        "outputId": "6b3abcb9-91a2-488e-b0b4-ae50c6733543"
      },
      "execution_count": 6,
      "outputs": [
        {
          "output_type": "display_data",
          "data": {
            "text/plain": [
              " Y.X1.X2.X3.X4.X5.X6.X7.X8.X9.X10.X11.X12.X13.X14.X15.X16.X17.X18.X19.X20.X21.X22.X23\n",
              " Length:15000                                                                        \n",
              " Class :character                                                                    \n",
              " Mode  :character                                                                    "
            ]
          },
          "metadata": {}
        }
      ]
    },
    {
      "cell_type": "markdown",
      "source": [
        "**Given the detailed information about the variables in the dataset, we can draw some conclusions and suggest potential steps for further analysis:**\n",
        "\n"
      ],
      "metadata": {
        "id": "LrHnCCjHQIJo"
      }
    },
    {
      "cell_type": "markdown",
      "source": [
        "## Variable Types and Conversion\n"
      ],
      "metadata": {
        "id": "PLWmIh9wQlFh"
      }
    },
    {
      "cell_type": "markdown",
      "source": [
        "- X1 (Credit Amount): This should be a numeric variable as it represents amounts in dollars.\n",
        "\n",
        "- X2 (Gender): Since it is coded as 1 (male) and 2 (female), it is a categorical variable. Consider converting it to a factor with two levels.\n",
        "\n",
        "- X3 (Education), X4 (Marital Status): These are categorical variables and should be converted to factors with their respective levels.\n",
        "\n",
        "- X5 (Age): This is a numeric variable.\n",
        "\n",
        "- X6-X11 (Repayment Status): These are ordinal categorical variables. They have an inherent order (-1, 1, 2, ..., 9) and should be treated as factors with ordered levels.\n",
        "\n",
        "- X12-X17 (Bill Statement Amount), X18-X23 (Previous Payment Amount): These should be numeric variables representing monetary values.\n"
      ],
      "metadata": {
        "id": "5ppmBdBmR9nj"
      }
    },
    {
      "cell_type": "markdown",
      "source": [
        "## Data Integrity and Cleaning\n",
        "\n",
        "- We need to ensure that the data types in the dataset match these specifications. They must be converted to the appropriate types if they are all currently 'character' types.\n",
        "\n",
        "- Check for missing or unusual values. For example, ensure that only the specified categories are present in categorical variables."
      ],
      "metadata": {
        "id": "VzlV9smYVwtw"
      }
    },
    {
      "cell_type": "markdown",
      "source": [
        "### Check for Missing Values"
      ],
      "metadata": {
        "id": "bXKUkUEVT6DJ"
      }
    },
    {
      "cell_type": "code",
      "source": [
        "# Check for missing values in the training dataset\n",
        "sum(is.na(train_data))"
      ],
      "metadata": {
        "colab": {
          "base_uri": "https://localhost:8080/",
          "height": 34
        },
        "id": "rkrg7bdAQm1m",
        "outputId": "9860f41f-fc91-4503-e384-e974ac825c4c"
      },
      "execution_count": 7,
      "outputs": [
        {
          "output_type": "display_data",
          "data": {
            "text/html": [
              "0"
            ],
            "text/markdown": "0",
            "text/latex": "0",
            "text/plain": [
              "[1] 0"
            ]
          },
          "metadata": {}
        }
      ]
    },
    {
      "cell_type": "markdown",
      "source": [
        "The output is zero, meaning there are no missing values (NA) in the train_data dataset. Every element in the dataset has a defined, non-missing value. This is generally a good sign for data quality, as missing data can complicate analysis and require additional steps for handling."
      ],
      "metadata": {
        "id": "b44AlY4xT2TI"
      }
    },
    {
      "cell_type": "markdown",
      "source": [
        "## Data Type Conversion\n",
        "\n",
        "Convert the variables to their appropriate data types based on the descriptions provided."
      ],
      "metadata": {
        "id": "MgadgfFjX5eZ"
      }
    },
    {
      "cell_type": "code",
      "source": [
        "# Converting data types\n",
        "train_data$X1 <- as.numeric(train_data$X1)\n",
        "train_data$X2 <- factor(train_data$X2, levels = c(1, 2), labels = c(\"Male\", \"Female\"))\n",
        "train_data$X3 <- factor(train_data$X3, levels = c(1, 2, 3, 4), labels = c(\"Graduate School\", \"University\", \"High School\", \"Others\"))\n",
        "train_data$X4 <- factor(train_data$X4, levels = c(1, 2, 3), labels = c(\"Married\", \"Single\", \"Others\"))\n",
        "train_data$X5 <- as.numeric(train_data$X5)\n",
        "for(i in 6:11) {\n",
        "  train_data[,i] <- factor(train_data[,i], ordered = TRUE)\n",
        "}\n",
        "for(i in 12:23) {\n",
        "  train_data[,i] <- as.numeric(train_data[,i])\n",
        "}\n"
      ],
      "metadata": {
        "colab": {
          "base_uri": "https://localhost:8080/",
          "height": 194
        },
        "id": "D-r43rG1X_kl",
        "outputId": "d4fc2eaf-3b49-4c66-d8bc-d6c9af8930ca"
      },
      "execution_count": 8,
      "outputs": [
        {
          "output_type": "error",
          "ename": "ERROR",
          "evalue": "ignored",
          "traceback": [
            "Error in `$<-.data.frame`(`*tmp*`, X1, value = numeric(0)): replacement has 0 rows, data has 15000\nTraceback:\n",
            "1. `$<-`(`*tmp*`, X1, value = numeric(0))",
            "2. `$<-.data.frame`(`*tmp*`, X1, value = numeric(0))",
            "3. stop(sprintf(ngettext(N, \"replacement has %d row, data has %d\", \n .     \"replacement has %d rows, data has %d\"), N, nrows), domain = NA)"
          ]
        }
      ]
    },
    {
      "cell_type": "code",
      "source": [
        "# Check if 'X1' column exists and is not empty\n",
        "if (\"X1\" %in% names(train_data) && length(train_data$X1) == nrow(train_data)) {\n",
        "  # Converting 'X1' to numeric\n",
        "  train_data$X1 <- as.numeric(train_data$X1)\n",
        "} else {\n",
        "  warning(\"Column 'X1' is missing or has incorrect length.\")\n",
        "}\n",
        "\n",
        "# Check and convert other columns as specified\n",
        "# For 'X2' - factor conversion\n",
        "if (\"X2\" %in% names(train_data)) {\n",
        "  train_data$X2 <- factor(train_data$X2, levels = c(1, 2), labels = c(\"Male\", \"Female\"))\n",
        "} else {\n",
        "  warning(\"Column 'X2' is missing.\")\n",
        "}\n",
        "\n",
        "# For 'X3' - factor conversion\n",
        "if (\"X3\" %in% names(train_data)) {\n",
        "  train_data$X3 <- factor(train_data$X3, levels = c(1, 2, 3, 4), labels = c(\"Graduate School\", \"University\", \"High School\", \"Others\"))\n",
        "} else {\n",
        "  warning(\"Column 'X3' is missing.\")\n",
        "}\n",
        "\n",
        "# For 'X4' - factor conversion\n",
        "if (\"X4\" %in% names(train_data)) {\n",
        "  train_data$X4 <- factor(train_data$X4, levels = c(1, 2, 3), labels = c(\"Married\", \"Single\", \"Others\"))\n",
        "} else {\n",
        "  warning(\"Column 'X4' is missing.\")\n",
        "}\n",
        "\n",
        "# For 'X5' - numeric conversion\n",
        "if (\"X5\" %in% names(train_data) && length(train_data$X5) == nrow(train_data)) {\n",
        "  train_data$X5 <- as.numeric(train_data$X5)\n",
        "} else {\n",
        "  warning(\"Column 'X5' is missing or has incorrect length.\")\n",
        "}\n",
        "\n",
        "# Looping over columns 6 to 11 for ordered factor conversion\n",
        "for (i in 6:11) {\n",
        "  if (i %in% names(train_data)) {\n",
        "    train_data[,i] <- factor(train_data[,i], ordered = TRUE)\n",
        "  } else {\n",
        "    warning(paste(\"Column\", i, \"is missing.\"))\n",
        "  }\n",
        "}\n",
        "\n",
        "# Looping over columns 12 to 23 for numeric conversion\n",
        "for (i in 12:23) {\n",
        "  if (i %in% names(train_data) && length(train_data[,i]) == nrow(train_data)) {\n",
        "    train_data[,i] <- as.numeric(train_data[,i])\n",
        "  } else {\n",
        "    warning(paste(\"Column\", i, \"is missing or has incorrect length.\"))\n",
        "  }\n",
        "}\n"
      ],
      "metadata": {
        "colab": {
          "base_uri": "https://localhost:8080/"
        },
        "id": "PJ2BcM-cY_-_",
        "outputId": "69c4810d-9edb-40b4-a89d-7be2c2c48f67"
      },
      "execution_count": 9,
      "outputs": [
        {
          "output_type": "stream",
          "name": "stderr",
          "text": [
            "Warning message in eval(expr, envir, enclos):\n",
            "“Column 'X1' is missing or has incorrect length.”\n",
            "Warning message in eval(expr, envir, enclos):\n",
            "“Column 'X2' is missing.”\n",
            "Warning message in eval(expr, envir, enclos):\n",
            "“Column 'X3' is missing.”\n",
            "Warning message in eval(expr, envir, enclos):\n",
            "“Column 'X4' is missing.”\n",
            "Warning message in eval(expr, envir, enclos):\n",
            "“Column 'X5' is missing or has incorrect length.”\n",
            "Warning message in eval(expr, envir, enclos):\n",
            "“Column 6 is missing.”\n",
            "Warning message in eval(expr, envir, enclos):\n",
            "“Column 7 is missing.”\n",
            "Warning message in eval(expr, envir, enclos):\n",
            "“Column 8 is missing.”\n",
            "Warning message in eval(expr, envir, enclos):\n",
            "“Column 9 is missing.”\n",
            "Warning message in eval(expr, envir, enclos):\n",
            "“Column 10 is missing.”\n",
            "Warning message in eval(expr, envir, enclos):\n",
            "“Column 11 is missing.”\n",
            "Warning message in eval(expr, envir, enclos):\n",
            "“Column 12 is missing or has incorrect length.”\n",
            "Warning message in eval(expr, envir, enclos):\n",
            "“Column 13 is missing or has incorrect length.”\n",
            "Warning message in eval(expr, envir, enclos):\n",
            "“Column 14 is missing or has incorrect length.”\n",
            "Warning message in eval(expr, envir, enclos):\n",
            "“Column 15 is missing or has incorrect length.”\n",
            "Warning message in eval(expr, envir, enclos):\n",
            "“Column 16 is missing or has incorrect length.”\n",
            "Warning message in eval(expr, envir, enclos):\n",
            "“Column 17 is missing or has incorrect length.”\n",
            "Warning message in eval(expr, envir, enclos):\n",
            "“Column 18 is missing or has incorrect length.”\n",
            "Warning message in eval(expr, envir, enclos):\n",
            "“Column 19 is missing or has incorrect length.”\n",
            "Warning message in eval(expr, envir, enclos):\n",
            "“Column 20 is missing or has incorrect length.”\n",
            "Warning message in eval(expr, envir, enclos):\n",
            "“Column 21 is missing or has incorrect length.”\n",
            "Warning message in eval(expr, envir, enclos):\n",
            "“Column 22 is missing or has incorrect length.”\n",
            "Warning message in eval(expr, envir, enclos):\n",
            "“Column 23 is missing or has incorrect length.”\n"
          ]
        }
      ]
    }
  ]
}